{
  "metadata": {
    "kernelspec": {
      "language": "python",
      "display_name": "Python 3",
      "name": "python3"
    },
    "language_info": {
      "name": "python",
      "version": "3.10.13",
      "mimetype": "text/x-python",
      "codemirror_mode": {
        "name": "ipython",
        "version": 3
      },
      "pygments_lexer": "ipython3",
      "nbconvert_exporter": "python",
      "file_extension": ".py"
    },
    "kaggle": {
      "accelerator": "nvidiaTeslaT4",
      "dataSources": [],
      "dockerImageVersionId": 30698,
      "isInternetEnabled": true,
      "language": "python",
      "sourceType": "notebook",
      "isGpuEnabled": true
    },
    "colab": {
      "provenance": []
    }
  },
  "nbformat_minor": 0,
  "nbformat": 4,
  "cells": [
    {
      "cell_type": "markdown",
      "source": [
        "# **CHATBOT Curilinaire** :"
      ],
      "metadata": {
        "id": "60sVPvMM3ScX"
      }
    },
    {
      "cell_type": "code",
      "source": [
        "#installing the required packages\n",
        "!pip install cohere\n"
      ],
      "metadata": {
        "_uuid": "8f2839f25d086af736a60e9eeb907d3b93b6e0e5",
        "_cell_guid": "b1076dfc-b9ad-4769-8c92-a6c4dae69d19",
        "execution": {
          "iopub.status.busy": "2024-04-30T08:07:57.656228Z",
          "iopub.execute_input": "2024-04-30T08:07:57.65652Z",
          "iopub.status.idle": "2024-04-30T08:08:16.28455Z",
          "shell.execute_reply.started": "2024-04-30T08:07:57.656496Z",
          "shell.execute_reply": "2024-04-30T08:08:16.283597Z"
        },
        "trusted": true,
        "id": "Qb4Mg1oR3ScZ",
        "outputId": "4cc7bbd6-f8d0-45ec-c121-1c90a0496545",
        "colab": {
          "base_uri": "https://localhost:8080/"
        }
      },
      "execution_count": null,
      "outputs": [
        {
          "output_type": "stream",
          "name": "stdout",
          "text": [
            "Collecting cohere\n",
            "  Downloading cohere-5.3.4-py3-none-any.whl (151 kB)\n",
            "\u001b[2K     \u001b[90m━━━━━━━━━━━━━━━━━━━━━━━━━━━━━━━━━━━━━━━━\u001b[0m \u001b[32m151.2/151.2 kB\u001b[0m \u001b[31m2.2 MB/s\u001b[0m eta \u001b[36m0:00:00\u001b[0m\n",
            "\u001b[?25hCollecting fastavro<2.0.0,>=1.9.4 (from cohere)\n",
            "  Downloading fastavro-1.9.4-cp310-cp310-manylinux_2_17_x86_64.manylinux2014_x86_64.whl (3.1 MB)\n",
            "\u001b[2K     \u001b[90m━━━━━━━━━━━━━━━━━━━━━━━━━━━━━━━━━━━━━━━━\u001b[0m \u001b[32m3.1/3.1 MB\u001b[0m \u001b[31m12.4 MB/s\u001b[0m eta \u001b[36m0:00:00\u001b[0m\n",
            "\u001b[?25hCollecting httpx>=0.21.2 (from cohere)\n",
            "  Downloading httpx-0.27.0-py3-none-any.whl (75 kB)\n",
            "\u001b[2K     \u001b[90m━━━━━━━━━━━━━━━━━━━━━━━━━━━━━━━━━━━━━━━━\u001b[0m \u001b[32m75.6/75.6 kB\u001b[0m \u001b[31m3.0 MB/s\u001b[0m eta \u001b[36m0:00:00\u001b[0m\n",
            "\u001b[?25hCollecting httpx-sse<0.5.0,>=0.4.0 (from cohere)\n",
            "  Downloading httpx_sse-0.4.0-py3-none-any.whl (7.8 kB)\n",
            "Requirement already satisfied: pydantic>=1.9.2 in /usr/local/lib/python3.10/dist-packages (from cohere) (2.7.1)\n",
            "Requirement already satisfied: requests<3.0.0,>=2.0.0 in /usr/local/lib/python3.10/dist-packages (from cohere) (2.31.0)\n",
            "Requirement already satisfied: tokenizers<0.20,>=0.19 in /usr/local/lib/python3.10/dist-packages (from cohere) (0.19.1)\n",
            "Collecting types-requests<3.0.0,>=2.0.0 (from cohere)\n",
            "  Downloading types_requests-2.31.0.20240406-py3-none-any.whl (15 kB)\n",
            "Requirement already satisfied: typing_extensions>=4.0.0 in /usr/local/lib/python3.10/dist-packages (from cohere) (4.11.0)\n",
            "Requirement already satisfied: anyio in /usr/local/lib/python3.10/dist-packages (from httpx>=0.21.2->cohere) (3.7.1)\n",
            "Requirement already satisfied: certifi in /usr/local/lib/python3.10/dist-packages (from httpx>=0.21.2->cohere) (2024.2.2)\n",
            "Collecting httpcore==1.* (from httpx>=0.21.2->cohere)\n",
            "  Downloading httpcore-1.0.5-py3-none-any.whl (77 kB)\n",
            "\u001b[2K     \u001b[90m━━━━━━━━━━━━━━━━━━━━━━━━━━━━━━━━━━━━━━━━\u001b[0m \u001b[32m77.9/77.9 kB\u001b[0m \u001b[31m6.2 MB/s\u001b[0m eta \u001b[36m0:00:00\u001b[0m\n",
            "\u001b[?25hRequirement already satisfied: idna in /usr/local/lib/python3.10/dist-packages (from httpx>=0.21.2->cohere) (3.7)\n",
            "Requirement already satisfied: sniffio in /usr/local/lib/python3.10/dist-packages (from httpx>=0.21.2->cohere) (1.3.1)\n",
            "Collecting h11<0.15,>=0.13 (from httpcore==1.*->httpx>=0.21.2->cohere)\n",
            "  Downloading h11-0.14.0-py3-none-any.whl (58 kB)\n",
            "\u001b[2K     \u001b[90m━━━━━━━━━━━━━━━━━━━━━━━━━━━━━━━━━━━━━━━━\u001b[0m \u001b[32m58.3/58.3 kB\u001b[0m \u001b[31m6.0 MB/s\u001b[0m eta \u001b[36m0:00:00\u001b[0m\n",
            "\u001b[?25hRequirement already satisfied: annotated-types>=0.4.0 in /usr/local/lib/python3.10/dist-packages (from pydantic>=1.9.2->cohere) (0.6.0)\n",
            "Requirement already satisfied: pydantic-core==2.18.2 in /usr/local/lib/python3.10/dist-packages (from pydantic>=1.9.2->cohere) (2.18.2)\n",
            "Requirement already satisfied: charset-normalizer<4,>=2 in /usr/local/lib/python3.10/dist-packages (from requests<3.0.0,>=2.0.0->cohere) (3.3.2)\n",
            "Requirement already satisfied: urllib3<3,>=1.21.1 in /usr/local/lib/python3.10/dist-packages (from requests<3.0.0,>=2.0.0->cohere) (2.0.7)\n",
            "Requirement already satisfied: huggingface-hub<1.0,>=0.16.4 in /usr/local/lib/python3.10/dist-packages (from tokenizers<0.20,>=0.19->cohere) (0.20.3)\n",
            "Requirement already satisfied: filelock in /usr/local/lib/python3.10/dist-packages (from huggingface-hub<1.0,>=0.16.4->tokenizers<0.20,>=0.19->cohere) (3.13.4)\n",
            "Requirement already satisfied: fsspec>=2023.5.0 in /usr/local/lib/python3.10/dist-packages (from huggingface-hub<1.0,>=0.16.4->tokenizers<0.20,>=0.19->cohere) (2023.6.0)\n",
            "Requirement already satisfied: tqdm>=4.42.1 in /usr/local/lib/python3.10/dist-packages (from huggingface-hub<1.0,>=0.16.4->tokenizers<0.20,>=0.19->cohere) (4.66.2)\n",
            "Requirement already satisfied: pyyaml>=5.1 in /usr/local/lib/python3.10/dist-packages (from huggingface-hub<1.0,>=0.16.4->tokenizers<0.20,>=0.19->cohere) (6.0.1)\n",
            "Requirement already satisfied: packaging>=20.9 in /usr/local/lib/python3.10/dist-packages (from huggingface-hub<1.0,>=0.16.4->tokenizers<0.20,>=0.19->cohere) (24.0)\n",
            "Requirement already satisfied: exceptiongroup in /usr/local/lib/python3.10/dist-packages (from anyio->httpx>=0.21.2->cohere) (1.2.1)\n",
            "Installing collected packages: types-requests, httpx-sse, h11, fastavro, httpcore, httpx, cohere\n",
            "Successfully installed cohere-5.3.4 fastavro-1.9.4 h11-0.14.0 httpcore-1.0.5 httpx-0.27.0 httpx-sse-0.4.0 types-requests-2.31.0.20240406\n"
          ]
        }
      ]
    },
    {
      "cell_type": "code",
      "source": [
        "# Import des bibliothèques nécessaires\n",
        "\n",
        "import requests\n",
        "import cohere"
      ],
      "metadata": {
        "execution": {
          "iopub.status.busy": "2024-04-30T08:08:16.286249Z",
          "iopub.execute_input": "2024-04-30T08:08:16.286569Z",
          "iopub.status.idle": "2024-04-30T08:08:17.013903Z",
          "shell.execute_reply.started": "2024-04-30T08:08:16.286542Z",
          "shell.execute_reply": "2024-04-30T08:08:17.013021Z"
        },
        "trusted": true,
        "id": "GiqP966d3Scd"
      },
      "execution_count": null,
      "outputs": []
    },
    {
      "cell_type": "code",
      "source": [
        "#cohere api key\n",
        "co = cohere.Client('W3CPardamPowGhLg6tcgKMUtx81TLVnnXUnBREAF')\n"
      ],
      "metadata": {
        "execution": {
          "iopub.status.busy": "2024-04-30T08:08:17.015095Z",
          "iopub.execute_input": "2024-04-30T08:08:17.015584Z",
          "iopub.status.idle": "2024-04-30T08:08:17.035984Z",
          "shell.execute_reply.started": "2024-04-30T08:08:17.015543Z",
          "shell.execute_reply": "2024-04-30T08:08:17.035272Z"
        },
        "trusted": true,
        "id": "Qx3qgTq93Sce"
      },
      "execution_count": null,
      "outputs": []
    },
    {
      "cell_type": "code",
      "source": [
        "# Définition de la préambule\n",
        "preamble_template = '''\n",
        "Je vous contacte dans un but précis : exploiter vos vastes connaissances culinaires pour répondre à diverses questions sur la cuisine et vous fournir des recettes délicieuses.\n",
        "En tant qu'expert dans ce domaine, vos idées et vos réponses sont cruciales. Vous serez invité à répondre à des questions sur les recettes de plats et à donner des conseils culinaires.\n",
        "Si vous ne connaissez pas la réponse à une question, veuillez simplement indiquer que vous ne savez pas.\n",
        "exemples de questions et reponses:\n",
        "question: Comment faire une pizza maison ?\n",
        "   Réponse : \"Voici une recette simple pour faire une pizza maison délicieuse : [Recette de la pizza maison].\"\n",
        "question: Quelle est la recette d'une salade César classique ?\n",
        "   Réponse : \"Voici la recette traditionnelle de la salade César : [Recette de la salade César].\"\n",
        "question: Comment faire cuire le riz parfaitement ?\n",
        "   Réponse : \"Voici une méthode pour cuire le riz parfaitement : [Méthode de cuisson du riz].\"\n",
        "question: Quelle est la meilleure façon de préparer des œufs brouillés ?\n",
        "   Réponse : \"Voici une recette pour des œufs brouillés moelleux : [Recette d'œufs brouillés].\"\n",
        "question: Comment faire une soupe de tomates maison ?\n",
        "   Réponse : \"Voici une recette simple pour une soupe de tomates maison : [Recette de soupe de tomates].\"\n",
        "question: Quelle est la différence entre le poivre noir et le poivre blanc ?\n",
        "   Réponse : \"Le poivre noir est plus piquant et aromatique que le poivre blanc, qui est plus doux et plus subtil en saveur.\"\n",
        "question: Comment préparer des tacos mexicains authentiques ?\n",
        "   Réponse : \"Voici une recette traditionnelle de tacos mexicains : [Recette de tacos mexicains].\"\n",
        "question: Quels sont les ingrédients pour faire une sauce pesto maison ?\n",
        "   Réponse : \"Les ingrédients pour une sauce pesto maison sont : basilic frais, ail, pignons de pin, parmesan râpé, huile d'olive, sel et poivre.\"\n",
        "question: Comment faire une omelette parfaite ?\n",
        "   Réponse : \"Voici une méthode pour faire une omelette parfaite : [Recette d'omelette].\"\n",
        "question: Quelle est la méthode pour griller le poulet au barbecue ?\n",
        "    Réponse : \"Voici une méthode pour griller le poulet au barbecue : [Méthode de cuisson du poulet au barbecue].\"\n",
        "question: Comment faire des crêpes légères et moelleuses ?\n",
        "    Réponse : \"Voici une recette pour des crêpes légères et moelleuses : [Recette de crêpes].\"\n",
        "question: Quels sont les meilleurs accompagnements pour un steak grillé ?\n",
        "    Réponse : \"Les meilleurs accompagnements pour un steak grillé sont : purée de pommes de terre, légumes grillés, salade verte ou champignons sautés.\"\n",
        "question: Comment faire une vinaigrette maison ?\n",
        "    Réponse : \"Voici une recette simple pour une vinaigrette maison : [Recette de vinaigrette].\"\n",
        "question: Quelle est la meilleure façon de couper les légumes pour une soupe ?\n",
        "    Réponse : \"La meilleure façon de couper les légumes pour une soupe est en petits dés ou en tranches fines pour une cuisson uniforme.\"\n",
        "question: Qu'est-ce que la cuisson à la vapeur et comment la faire ?\n",
        "    Réponse : \"La cuisson à la vapeur est une méthode de cuisson qui utilise de la vapeur d'eau pour cuire les aliments de manière douce et saine. Voici comment la faire : [Méthode de cuisson à la vapeur].\"\n",
        "question: Quelle est la différence entre la levure chimique et la levure de boulanger ?\n",
        "    Réponse : \"La levure chimique est utilisée pour faire lever les pâtisseries, tandis que la levure de boulanger est utilisée pour faire lever le pain.\"\n",
        "question: Comment faire une sauce tomate maison pour les pâtes ?\n",
        "    Réponse : \"Voici une recette simple pour une sauce tomate maison : [Recette de sauce tomate].\"\n",
        "question: Quelles sont les techniques pour émincer les oignons sans pleurer ?\n",
        "    Réponse : \"Pour émincer les oignons sans pleurer, vous pouvez essayer de les couper sous l'eau froide ou de les placer au réfrigérateur avant de les couper.\"\n",
        "question: Comment préparer des desserts légers et sains ?\n",
        "    Réponse : \"Voici quelques idées de desserts légers et sains : [Idées de desserts].\"\n",
        "question: Quels sont les temps de cuisson recommandés pour les viandes ?\n",
        "    Réponse : \"Les temps de cuisson recommandés pour les viandes varient en fonction du type de viande et de la méthode de cuisson. Voici un guide général : [Guide des temps de cuisson des viandes].\"\n",
        "\n",
        "Si je ne connais pas la réponse à votre question, je vous dirai simplement : \"Désolé, je ne sais pas\".\n",
        "'''"
      ],
      "metadata": {
        "execution": {
          "iopub.status.busy": "2024-04-30T08:08:17.038528Z",
          "iopub.execute_input": "2024-04-30T08:08:17.039098Z",
          "iopub.status.idle": "2024-04-30T08:08:17.047364Z",
          "shell.execute_reply.started": "2024-04-30T08:08:17.039071Z",
          "shell.execute_reply": "2024-04-30T08:08:17.046459Z"
        },
        "trusted": true,
        "id": "kJ48TVon3Sce"
      },
      "execution_count": null,
      "outputs": []
    },
    {
      "cell_type": "code",
      "source": [
        "import requests\n",
        "\n",
        "url = \"https://api.cohere.ai/v1/check-api-key\"\n",
        "\n",
        "headers = {\"accept\": \"application/json\"}\n",
        "\n",
        "response = requests.post(url, headers=headers)\n",
        "\n",
        "print(response.text)"
      ],
      "metadata": {
        "execution": {
          "iopub.status.busy": "2024-04-30T08:08:17.048374Z",
          "iopub.execute_input": "2024-04-30T08:08:17.048616Z",
          "iopub.status.idle": "2024-04-30T08:08:17.12257Z",
          "shell.execute_reply.started": "2024-04-30T08:08:17.048594Z",
          "shell.execute_reply": "2024-04-30T08:08:17.121762Z"
        },
        "trusted": true,
        "id": "STqbptcD3Sch",
        "outputId": "8419af15-d5e9-4bae-a262-5cb39cfcb6c0",
        "colab": {
          "base_uri": "https://localhost:8080/"
        }
      },
      "execution_count": null,
      "outputs": [
        {
          "output_type": "stream",
          "name": "stdout",
          "text": [
            "{\"valid\":false}\n"
          ]
        }
      ]
    },
    {
      "cell_type": "code",
      "source": [
        "def culinary_chatbot(prompt):\n",
        "    # Envoyer une requête à l'API CoHere\n",
        "    response = co.chat(\n",
        "        message=prompt,\n",
        "        preamble=preamble_template,\n",
        "        model='command-r-plus',\n",
        "         max_tokens=800,\n",
        "            temperature=0.02,\n",
        "            presence_penalty=0.01,\n",
        "            k=5,\n",
        "            p=1,\n",
        "    )\n",
        "\n",
        "\n",
        "    answer = print(response.text)\n"
      ],
      "metadata": {
        "execution": {
          "iopub.status.busy": "2024-04-30T08:47:22.683244Z",
          "iopub.execute_input": "2024-04-30T08:47:22.684211Z",
          "iopub.status.idle": "2024-04-30T08:47:22.68938Z",
          "shell.execute_reply.started": "2024-04-30T08:47:22.684177Z",
          "shell.execute_reply": "2024-04-30T08:47:22.688356Z"
        },
        "trusted": true,
        "id": "kG_7EwR63Scj"
      },
      "execution_count": null,
      "outputs": []
    },
    {
      "cell_type": "code",
      "source": [
        "prompt=input(\"Posez une question culinaire : \")\n",
        "culinary_chatbot(prompt)"
      ],
      "metadata": {
        "execution": {
          "iopub.status.busy": "2024-04-30T08:47:40.18552Z",
          "iopub.execute_input": "2024-04-30T08:47:40.18653Z",
          "iopub.status.idle": "2024-04-30T08:48:09.0094Z",
          "shell.execute_reply.started": "2024-04-30T08:47:40.186496Z",
          "shell.execute_reply": "2024-04-30T08:48:09.008454Z"
        },
        "trusted": true,
        "id": "v3Dc_2pz3Sck",
        "outputId": "107060a8-0e21-4274-f6eb-00fffae7ce18",
        "colab": {
          "base_uri": "https://localhost:8080/"
        }
      },
      "execution_count": null,
      "outputs": [
        {
          "output_type": "stream",
          "name": "stdout",
          "text": [
            "Posez une question culinaire : comment cuisiner un plat plein de proteine et peu calorique dans la maison\n",
            "Voici une suggestion de recette pour un plat riche en protéines et peu calorique que vous pouvez facilement préparer à la maison : Poulet grillé aux légumes.\n",
            "\n",
            "Ingrédients :\n",
            "\n",
            "- 2 blancs de poulet (sans peau)\n",
            "- 1 courgette\n",
            "- 1 poivron rouge\n",
            "- 1 oignon\n",
            "- 2 carottes\n",
            "- 2 gousses d'ail\n",
            "- Huile d'olive\n",
            "- Herbes de Provence\n",
            "- Sel et poivre\n",
            "\n",
            "Instructions :\n",
            "\n",
            "1. Préchauffez votre four à 200°C.\n",
            "2. Coupez les blancs de poulet en lanières.\n",
            "3. Coupez les légumes (courgette, poivron, oignon, carottes) en bâtonnets ou en tranches.\n",
            "4. Dans un grand saladier, mélangez les lanières de poulet et les légumes. Ajoutez l'ail haché, un filet d'huile d'olive, les herbes de Provence, le sel et le poivre. Mélangez bien pour que tous les ingrédients soient enrobés d'assaisonnement.\n",
            "5. Étalez le mélange sur une plaque de cuisson recouverte de papier sulfurisé. Assurez-vous que les ingrédients ne se chevauchent pas trop.\n",
            "6. Enfournez pendant environ 20-25 minutes, ou jusqu'à ce que le poulet soit cuit et que les légumes soient tendres. Remuez une ou deux fois pendant la cuisson pour une cuisson uniforme.\n",
            "7. Servez immédiatement. Ce plat peut être accompagné d'une salade verte ou de quinoa cuit pour un apport supplémentaire en protéines.\n",
            "\n",
            "Ce plat est riche en protéines grâce au poulet et aux légumes. Il est également peu calorique car la viande est maigre et la cuisson au four réduit la nécessité d'ajouter des matières grasses supplémentaires. Les légumes fournissent des nutriments essentiels et des fibres, ce qui en fait un repas sain et équilibré.\n",
            "\n",
            "Vous pouvez adapter cette recette en utilisant d'autres légumes de votre choix ou en ajoutant des épices différentes pour varier les saveurs.\n"
          ]
        }
      ]
    }
  ]
}